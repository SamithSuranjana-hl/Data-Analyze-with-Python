{
  "nbformat": 4,
  "nbformat_minor": 0,
  "metadata": {
    "colab": {
      "provenance": [],
      "authorship_tag": "ABX9TyMnkaLiQyDOEotBJNlmg6wA",
      "include_colab_link": true
    },
    "kernelspec": {
      "name": "python3",
      "display_name": "Python 3"
    },
    "language_info": {
      "name": "python"
    }
  },
  "cells": [
    {
      "cell_type": "markdown",
      "metadata": {
        "id": "view-in-github",
        "colab_type": "text"
      },
      "source": [
        "<a href=\"https://colab.research.google.com/github/SamithSuranjana-hl/Data-Analyze-with-Python/blob/main/a.ipynb\" target=\"_parent\"><img src=\"https://colab.research.google.com/assets/colab-badge.svg\" alt=\"Open In Colab\"/></a>"
      ]
    },
    {
      "cell_type": "code",
      "execution_count": 1,
      "metadata": {
        "colab": {
          "base_uri": "https://localhost:8080/"
        },
        "id": "V9VwduRxuIx9",
        "outputId": "500f08c8-df76-41fd-efef-dac9c865974e"
      },
      "outputs": [
        {
          "output_type": "stream",
          "name": "stdout",
          "text": [
            "jhx\n"
          ]
        }
      ],
      "source": [
        "print('jhx')"
      ]
    },
    {
      "cell_type": "code",
      "source": [],
      "metadata": {
        "id": "x0wsL9nww0U8"
      },
      "execution_count": null,
      "outputs": []
    }
  ]
}